{
 "cells": [
  {
   "cell_type": "markdown",
   "metadata": {},
   "source": [
    "# TP2 - MODELO ML"
   ]
  },
  {
   "cell_type": "markdown",
   "metadata": {},
   "source": [
    "ESCOLHER UM DOS 3 PROBLEMAS ABAIXO\n",
    "\n",
    "> CLASSIFICAÇÃO (manning.csv)\n",
    "\n",
    "> REGRESSÃO (campeonato-brasileiro-full.csv)\n",
    "\n",
    "> AGRUPAMENTO (players_22.csv)\n",
    "\n",
    "Escolher sua própria base ou utilizar as bases sugeridas em ()"
   ]
  },
  {
   "cell_type": "markdown",
   "metadata": {},
   "source": [
    "## 0. Pesquisa\n",
    "\n",
    "Revisar no Google Scholar aplicações similares a que gostaria de fazer e uma lista de modelos utilizados"
   ]
  },
  {
   "cell_type": "markdown",
   "metadata": {},
   "source": [
    "## 1. Importar a Base de Dados"
   ]
  },
  {
   "cell_type": "code",
   "execution_count": null,
   "metadata": {},
   "outputs": [],
   "source": [
    "# SOME CODE"
   ]
  },
  {
   "cell_type": "markdown",
   "metadata": {},
   "source": [
    "## 2. Análise e Limpeza dos Dados"
   ]
  },
  {
   "cell_type": "code",
   "execution_count": 2,
   "metadata": {},
   "outputs": [],
   "source": [
    "# SOME CODE"
   ]
  },
  {
   "cell_type": "markdown",
   "metadata": {},
   "source": [
    "## 3. Seleção de Variáveis > Quais variáveis são mais importantes para o problema?"
   ]
  },
  {
   "cell_type": "code",
   "execution_count": null,
   "metadata": {},
   "outputs": [],
   "source": [
    "# SOME CODE"
   ]
  },
  {
   "cell_type": "markdown",
   "metadata": {},
   "source": [
    "## 4. Preparar o Dataset para o Modelo considerando as Variáveis Selecionadas"
   ]
  },
  {
   "cell_type": "code",
   "execution_count": null,
   "metadata": {},
   "outputs": [],
   "source": [
    "# SOME CODE"
   ]
  },
  {
   "cell_type": "markdown",
   "metadata": {},
   "source": [
    "## 5. Loop de Treinamento\n",
    "\n",
    "Treinar o modelo considerando:\n",
    "\n",
    "> Scaling das Variáveis\n",
    "\n",
    "> Estimação do Erro de Generalização (Single Split, K-Folds)\n",
    "\n",
    "> Figuras de Mérito\n",
    "\n",
    ">> Classificação (Acurácia, Precisão, Recall)\n",
    "\n",
    ">> Regressão (R² e Distribuição do Resíduo)\n",
    "\n",
    ">> Agrupamento (Distância Intra / Distância Entre Clusteres)"
   ]
  },
  {
   "cell_type": "code",
   "execution_count": null,
   "metadata": {},
   "outputs": [],
   "source": [
    "# SOME CODE"
   ]
  },
  {
   "cell_type": "markdown",
   "metadata": {},
   "source": [
    "## 6. Análise do Treinamento e Seleção do Melhor Modelo"
   ]
  },
  {
   "cell_type": "code",
   "execution_count": null,
   "metadata": {},
   "outputs": [],
   "source": [
    "# SOME CODE"
   ]
  },
  {
   "cell_type": "markdown",
   "metadata": {},
   "source": [
    "## 7. Resultado do Modelo\n",
    "\n",
    "> Classificação (Matriz de Confusão, Curva ROC)\n",
    "\n",
    "> Regressão (Distribuição do Resíduo, Resíduo vs Y, Y_pred vs Y_est)\n",
    "\n",
    "> Agrupamento (Convergência do Treinamento)"
   ]
  },
  {
   "cell_type": "code",
   "execution_count": null,
   "metadata": {},
   "outputs": [],
   "source": [
    "# SOME CODE"
   ]
  },
  {
   "cell_type": "markdown",
   "metadata": {},
   "source": [
    "## 8. Conclusão e Melhorias Futuras"
   ]
  },
  {
   "cell_type": "code",
   "execution_count": null,
   "metadata": {},
   "outputs": [],
   "source": [
    "# SOME CODE"
   ]
  },
  {
   "cell_type": "markdown",
   "metadata": {},
   "source": []
  }
 ],
 "metadata": {
  "kernelspec": {
   "display_name": "infnet-sports",
   "language": "python",
   "name": "python3"
  },
  "language_info": {
   "codemirror_mode": {
    "name": "ipython",
    "version": 3
   },
   "file_extension": ".py",
   "mimetype": "text/x-python",
   "name": "python",
   "nbconvert_exporter": "python",
   "pygments_lexer": "ipython3",
   "version": "3.12.1"
  }
 },
 "nbformat": 4,
 "nbformat_minor": 2
}
