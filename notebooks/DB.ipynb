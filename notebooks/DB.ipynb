{
 "cells": [
  {
   "cell_type": "markdown",
   "metadata": {},
   "source": [
    "# MEU PRIMEIRO CADERNO\n",
    "\n",
    "- Lista de Coisas\n",
    "- Coisa 1\n",
    "- Coisa 3"
   ]
  },
  {
   "cell_type": "code",
   "execution_count": 20,
   "metadata": {},
   "outputs": [],
   "source": [
    "import os\n",
    "import pathlib\n",
    "import pandas\n",
    "from matplotlib import pyplot\n",
    "\n",
    "%matplotlib inline"
   ]
  },
  {
   "cell_type": "code",
   "execution_count": 2,
   "metadata": {},
   "outputs": [
    {
     "data": {
      "text/plain": [
       "WindowsPath('c:/Users/User/Dropbox/DS/python/infnet/infnet-sports/datasets')"
      ]
     },
     "execution_count": 2,
     "metadata": {},
     "output_type": "execute_result"
    }
   ],
   "source": [
    "working_folder = os.getcwd()\n",
    "data_folder = pathlib.Path(working_folder).parent / \"datasets\"\n",
    "\n",
    "data_folder"
   ]
  },
  {
   "cell_type": "code",
   "execution_count": 3,
   "metadata": {},
   "outputs": [
    {
     "data": {
      "text/plain": [
       "WindowsPath('c:/Users/User/Dropbox/DS/python/infnet/infnet-sports/datasets/brasileirao')"
      ]
     },
     "execution_count": 3,
     "metadata": {},
     "output_type": "execute_result"
    }
   ],
   "source": [
    "brasileirao_folder = data_folder / \"brasileirao\"\n",
    "\n",
    "brasileirao_folder"
   ]
  },
  {
   "cell_type": "code",
   "execution_count": 4,
   "metadata": {},
   "outputs": [],
   "source": [
    "df_brasileirao = pandas.read_csv(brasileirao_folder / \"campeonato-brasileiro-full.csv\")"
   ]
  },
  {
   "cell_type": "code",
   "execution_count": 5,
   "metadata": {},
   "outputs": [
    {
     "data": {
      "text/html": [
       "<div>\n",
       "<style scoped>\n",
       "    .dataframe tbody tr th:only-of-type {\n",
       "        vertical-align: middle;\n",
       "    }\n",
       "\n",
       "    .dataframe tbody tr th {\n",
       "        vertical-align: top;\n",
       "    }\n",
       "\n",
       "    .dataframe thead th {\n",
       "        text-align: right;\n",
       "    }\n",
       "</style>\n",
       "<table border=\"1\" class=\"dataframe\">\n",
       "  <thead>\n",
       "    <tr style=\"text-align: right;\">\n",
       "      <th></th>\n",
       "      <th>ID</th>\n",
       "      <th>rodata</th>\n",
       "      <th>data</th>\n",
       "      <th>hora</th>\n",
       "      <th>mandante</th>\n",
       "      <th>visitante</th>\n",
       "      <th>formacao_mandante</th>\n",
       "      <th>formacao_visitante</th>\n",
       "      <th>tecnico_mandante</th>\n",
       "      <th>tecnico_visitante</th>\n",
       "      <th>vencedor</th>\n",
       "      <th>arena</th>\n",
       "      <th>mandante_Placar</th>\n",
       "      <th>visitante_Placar</th>\n",
       "      <th>mandante_Estado</th>\n",
       "      <th>visitante_Estado</th>\n",
       "    </tr>\n",
       "  </thead>\n",
       "  <tbody>\n",
       "    <tr>\n",
       "      <th>0</th>\n",
       "      <td>1</td>\n",
       "      <td>1</td>\n",
       "      <td>29/3/2003</td>\n",
       "      <td>16:00</td>\n",
       "      <td>Guarani</td>\n",
       "      <td>Vasco</td>\n",
       "      <td>NaN</td>\n",
       "      <td>NaN</td>\n",
       "      <td>NaN</td>\n",
       "      <td>NaN</td>\n",
       "      <td>Guarani</td>\n",
       "      <td>Brinco de Ouro</td>\n",
       "      <td>4</td>\n",
       "      <td>2</td>\n",
       "      <td>SP</td>\n",
       "      <td>RJ</td>\n",
       "    </tr>\n",
       "    <tr>\n",
       "      <th>1</th>\n",
       "      <td>2</td>\n",
       "      <td>1</td>\n",
       "      <td>29/3/2003</td>\n",
       "      <td>16:00</td>\n",
       "      <td>Athletico-PR</td>\n",
       "      <td>Gremio</td>\n",
       "      <td>NaN</td>\n",
       "      <td>NaN</td>\n",
       "      <td>NaN</td>\n",
       "      <td>NaN</td>\n",
       "      <td>Athletico-PR</td>\n",
       "      <td>Arena da Baixada</td>\n",
       "      <td>2</td>\n",
       "      <td>0</td>\n",
       "      <td>PR</td>\n",
       "      <td>RS</td>\n",
       "    </tr>\n",
       "    <tr>\n",
       "      <th>2</th>\n",
       "      <td>3</td>\n",
       "      <td>1</td>\n",
       "      <td>30/3/2003</td>\n",
       "      <td>16:00</td>\n",
       "      <td>Flamengo</td>\n",
       "      <td>Coritiba</td>\n",
       "      <td>NaN</td>\n",
       "      <td>NaN</td>\n",
       "      <td>NaN</td>\n",
       "      <td>NaN</td>\n",
       "      <td>-</td>\n",
       "      <td>Maracanã</td>\n",
       "      <td>1</td>\n",
       "      <td>1</td>\n",
       "      <td>RJ</td>\n",
       "      <td>PR</td>\n",
       "    </tr>\n",
       "    <tr>\n",
       "      <th>3</th>\n",
       "      <td>4</td>\n",
       "      <td>1</td>\n",
       "      <td>30/3/2003</td>\n",
       "      <td>16:00</td>\n",
       "      <td>Goias</td>\n",
       "      <td>Paysandu</td>\n",
       "      <td>NaN</td>\n",
       "      <td>NaN</td>\n",
       "      <td>NaN</td>\n",
       "      <td>NaN</td>\n",
       "      <td>-</td>\n",
       "      <td>Serra Dourada</td>\n",
       "      <td>2</td>\n",
       "      <td>2</td>\n",
       "      <td>GO</td>\n",
       "      <td>PA</td>\n",
       "    </tr>\n",
       "    <tr>\n",
       "      <th>4</th>\n",
       "      <td>5</td>\n",
       "      <td>1</td>\n",
       "      <td>30/3/2003</td>\n",
       "      <td>16:00</td>\n",
       "      <td>Internacional</td>\n",
       "      <td>Ponte Preta</td>\n",
       "      <td>NaN</td>\n",
       "      <td>NaN</td>\n",
       "      <td>NaN</td>\n",
       "      <td>NaN</td>\n",
       "      <td>-</td>\n",
       "      <td>Beira Rio</td>\n",
       "      <td>1</td>\n",
       "      <td>1</td>\n",
       "      <td>RS</td>\n",
       "      <td>SP</td>\n",
       "    </tr>\n",
       "    <tr>\n",
       "      <th>...</th>\n",
       "      <td>...</td>\n",
       "      <td>...</td>\n",
       "      <td>...</td>\n",
       "      <td>...</td>\n",
       "      <td>...</td>\n",
       "      <td>...</td>\n",
       "      <td>...</td>\n",
       "      <td>...</td>\n",
       "      <td>...</td>\n",
       "      <td>...</td>\n",
       "      <td>...</td>\n",
       "      <td>...</td>\n",
       "      <td>...</td>\n",
       "      <td>...</td>\n",
       "      <td>...</td>\n",
       "      <td>...</td>\n",
       "    </tr>\n",
       "    <tr>\n",
       "      <th>8020</th>\n",
       "      <td>8021</td>\n",
       "      <td>38</td>\n",
       "      <td>13/11/2022</td>\n",
       "      <td>16:03</td>\n",
       "      <td>Cuiaba</td>\n",
       "      <td>Coritiba</td>\n",
       "      <td>4-1-4-1</td>\n",
       "      <td>4-1-4-1</td>\n",
       "      <td>A. Cardoso de Oliveira</td>\n",
       "      <td>A. Ferreira</td>\n",
       "      <td>Cuiaba</td>\n",
       "      <td>Arena Pantanal</td>\n",
       "      <td>2</td>\n",
       "      <td>1</td>\n",
       "      <td>MT</td>\n",
       "      <td>PR</td>\n",
       "    </tr>\n",
       "    <tr>\n",
       "      <th>8021</th>\n",
       "      <td>8022</td>\n",
       "      <td>38</td>\n",
       "      <td>13/11/2022</td>\n",
       "      <td>16:03</td>\n",
       "      <td>Bragantino</td>\n",
       "      <td>Fluminense</td>\n",
       "      <td>4-2-3-1</td>\n",
       "      <td>4-2-3-1</td>\n",
       "      <td>M. Nogueira Barbieri</td>\n",
       "      <td>F. Diniz Silva</td>\n",
       "      <td>Fluminense</td>\n",
       "      <td>Nabizão</td>\n",
       "      <td>0</td>\n",
       "      <td>1</td>\n",
       "      <td>SP</td>\n",
       "      <td>RJ</td>\n",
       "    </tr>\n",
       "    <tr>\n",
       "      <th>8022</th>\n",
       "      <td>8023</td>\n",
       "      <td>38</td>\n",
       "      <td>13/11/2022</td>\n",
       "      <td>16:03</td>\n",
       "      <td>Corinthians</td>\n",
       "      <td>Atletico-MG</td>\n",
       "      <td>4-1-4-1</td>\n",
       "      <td>4-2-3-1</td>\n",
       "      <td>F. J. Monteiro Almeida</td>\n",
       "      <td>A. Stival</td>\n",
       "      <td>Atletico-MG</td>\n",
       "      <td>Neo Química Arena</td>\n",
       "      <td>0</td>\n",
       "      <td>1</td>\n",
       "      <td>SP</td>\n",
       "      <td>MG</td>\n",
       "    </tr>\n",
       "    <tr>\n",
       "      <th>8023</th>\n",
       "      <td>8024</td>\n",
       "      <td>38</td>\n",
       "      <td>13/11/2022</td>\n",
       "      <td>16:03</td>\n",
       "      <td>Internacional</td>\n",
       "      <td>Palmeiras</td>\n",
       "      <td>4-2-3-1</td>\n",
       "      <td>4-2-3-1</td>\n",
       "      <td>L. Venker de Menezes</td>\n",
       "      <td>A. Moreira Ferreira</td>\n",
       "      <td>Internacional</td>\n",
       "      <td>Estádio José Pinheiro Borda</td>\n",
       "      <td>3</td>\n",
       "      <td>0</td>\n",
       "      <td>RS</td>\n",
       "      <td>SP</td>\n",
       "    </tr>\n",
       "    <tr>\n",
       "      <th>8024</th>\n",
       "      <td>8025</td>\n",
       "      <td>38</td>\n",
       "      <td>13/11/2022</td>\n",
       "      <td>16:03</td>\n",
       "      <td>Goias</td>\n",
       "      <td>Sao Paulo</td>\n",
       "      <td>4-2-3-1</td>\n",
       "      <td>4-1-2-1-2</td>\n",
       "      <td>J. Ribeiro Ventura</td>\n",
       "      <td>R. Ceni</td>\n",
       "      <td>Sao Paulo</td>\n",
       "      <td>Estádio da Serrinha</td>\n",
       "      <td>0</td>\n",
       "      <td>4</td>\n",
       "      <td>GO</td>\n",
       "      <td>SP</td>\n",
       "    </tr>\n",
       "  </tbody>\n",
       "</table>\n",
       "<p>8025 rows × 16 columns</p>\n",
       "</div>"
      ],
      "text/plain": [
       "        ID  rodata        data   hora       mandante    visitante  \\\n",
       "0        1       1   29/3/2003  16:00        Guarani        Vasco   \n",
       "1        2       1   29/3/2003  16:00   Athletico-PR       Gremio   \n",
       "2        3       1   30/3/2003  16:00       Flamengo     Coritiba   \n",
       "3        4       1   30/3/2003  16:00          Goias     Paysandu   \n",
       "4        5       1   30/3/2003  16:00  Internacional  Ponte Preta   \n",
       "...    ...     ...         ...    ...            ...          ...   \n",
       "8020  8021      38  13/11/2022  16:03         Cuiaba     Coritiba   \n",
       "8021  8022      38  13/11/2022  16:03     Bragantino   Fluminense   \n",
       "8022  8023      38  13/11/2022  16:03    Corinthians  Atletico-MG   \n",
       "8023  8024      38  13/11/2022  16:03  Internacional    Palmeiras   \n",
       "8024  8025      38  13/11/2022  16:03          Goias    Sao Paulo   \n",
       "\n",
       "     formacao_mandante formacao_visitante        tecnico_mandante  \\\n",
       "0                  NaN                NaN                     NaN   \n",
       "1                  NaN                NaN                     NaN   \n",
       "2                  NaN                NaN                     NaN   \n",
       "3                  NaN                NaN                     NaN   \n",
       "4                  NaN                NaN                     NaN   \n",
       "...                ...                ...                     ...   \n",
       "8020           4-1-4-1            4-1-4-1  A. Cardoso de Oliveira   \n",
       "8021           4-2-3-1            4-2-3-1    M. Nogueira Barbieri   \n",
       "8022           4-1-4-1            4-2-3-1  F. J. Monteiro Almeida   \n",
       "8023           4-2-3-1            4-2-3-1    L. Venker de Menezes   \n",
       "8024           4-2-3-1          4-1-2-1-2      J. Ribeiro Ventura   \n",
       "\n",
       "        tecnico_visitante       vencedor                        arena  \\\n",
       "0                     NaN        Guarani               Brinco de Ouro   \n",
       "1                     NaN   Athletico-PR             Arena da Baixada   \n",
       "2                     NaN              -                     Maracanã   \n",
       "3                     NaN              -                Serra Dourada   \n",
       "4                     NaN              -                    Beira Rio   \n",
       "...                   ...            ...                          ...   \n",
       "8020          A. Ferreira         Cuiaba               Arena Pantanal   \n",
       "8021       F. Diniz Silva     Fluminense                      Nabizão   \n",
       "8022            A. Stival    Atletico-MG            Neo Química Arena   \n",
       "8023  A. Moreira Ferreira  Internacional  Estádio José Pinheiro Borda   \n",
       "8024              R. Ceni      Sao Paulo          Estádio da Serrinha   \n",
       "\n",
       "      mandante_Placar  visitante_Placar mandante_Estado visitante_Estado  \n",
       "0                   4                 2              SP               RJ  \n",
       "1                   2                 0              PR               RS  \n",
       "2                   1                 1              RJ               PR  \n",
       "3                   2                 2              GO               PA  \n",
       "4                   1                 1              RS               SP  \n",
       "...               ...               ...             ...              ...  \n",
       "8020                2                 1              MT               PR  \n",
       "8021                0                 1              SP               RJ  \n",
       "8022                0                 1              SP               MG  \n",
       "8023                3                 0              RS               SP  \n",
       "8024                0                 4              GO               SP  \n",
       "\n",
       "[8025 rows x 16 columns]"
      ]
     },
     "execution_count": 5,
     "metadata": {},
     "output_type": "execute_result"
    }
   ],
   "source": [
    "df_brasileirao"
   ]
  },
  {
   "cell_type": "code",
   "execution_count": 6,
   "metadata": {},
   "outputs": [
    {
     "data": {
      "text/plain": [
       "pandas.core.series.Series"
      ]
     },
     "execution_count": 6,
     "metadata": {},
     "output_type": "execute_result"
    }
   ],
   "source": [
    "type(df_brasileirao.mandante_Placar)"
   ]
  },
  {
   "cell_type": "code",
   "execution_count": 7,
   "metadata": {},
   "outputs": [
    {
     "data": {
      "text/plain": [
       "0       4\n",
       "1       2\n",
       "2       1\n",
       "3       2\n",
       "4       1\n",
       "       ..\n",
       "8020    2\n",
       "8021    0\n",
       "8022    0\n",
       "8023    3\n",
       "8024    0\n",
       "Name: mandante_Placar, Length: 8025, dtype: int64"
      ]
     },
     "execution_count": 7,
     "metadata": {},
     "output_type": "execute_result"
    }
   ],
   "source": [
    "df_brasileirao.mandante_Placar"
   ]
  },
  {
   "cell_type": "code",
   "execution_count": 8,
   "metadata": {},
   "outputs": [
    {
     "data": {
      "text/plain": [
       "1.5470404984423676"
      ]
     },
     "execution_count": 8,
     "metadata": {},
     "output_type": "execute_result"
    }
   ],
   "source": [
    "df_brasileirao.mandante_Placar.mean()"
   ]
  },
  {
   "cell_type": "code",
   "execution_count": 9,
   "metadata": {},
   "outputs": [
    {
     "data": {
      "text/plain": [
       "1.0249221183800623"
      ]
     },
     "execution_count": 9,
     "metadata": {},
     "output_type": "execute_result"
    }
   ],
   "source": [
    "df_brasileirao.visitante_Placar.mean()"
   ]
  },
  {
   "cell_type": "code",
   "execution_count": 10,
   "metadata": {},
   "outputs": [
    {
     "data": {
      "text/plain": [
       "1.2322767580598069"
      ]
     },
     "execution_count": 10,
     "metadata": {},
     "output_type": "execute_result"
    }
   ],
   "source": [
    "df_brasileirao.mandante_Placar.std()"
   ]
  },
  {
   "cell_type": "code",
   "execution_count": 46,
   "metadata": {},
   "outputs": [
    {
     "data": {
      "image/png": "[encoded data removed]",
      "text/plain": [
       "<Figure size 500x500 with 2 Axes>"
      ]
     },
     "metadata": {},
     "output_type": "display_data"
    }
   ],
   "source": [
    "fig = pyplot.figure(figsize=(5, 5))\n",
    "\n",
    "ax = fig.add_subplot(111)\n",
    "_ = df_brasileirao.mandante_Placar.value_counts(normalize=True).sort_index().plot(kind='bar', ax=ax)\n",
    "_ = (df_brasileirao.mandante_Placar.value_counts().sort_index().cumsum()/df_brasileirao.mandante_Placar.value_counts().sort_index().cumsum().max()).plot(ax=ax.twinx(), color='r')\n",
    "_ = ax.grid(axis='y', linestyle='--', alpha=0.5)"
   ]
  },
  {
   "cell_type": "code",
   "execution_count": null,
   "metadata": {},
   "outputs": [],
   "source": []
  }
 ],
 "metadata": {
  "kernelspec": {
   "display_name": "infnet-sports",
   "language": "python",
   "name": "python3"
  },
  "language_info": {
   "codemirror_mode": {
    "name": "ipython",
    "version": 3
   },
   "file_extension": ".py",
   "mimetype": "text/x-python",
   "name": "python",
   "nbconvert_exporter": "python",
   "pygments_lexer": "ipython3",
   "version": "3.12.1"
  }
 },
 "nbformat": 4,
 "nbformat_minor": 2
}
